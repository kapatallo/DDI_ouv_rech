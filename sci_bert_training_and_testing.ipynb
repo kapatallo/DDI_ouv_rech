{
  "cells": [
    {
      "cell_type": "code",
      "execution_count": null,
      "metadata": {
        "colab": {
          "base_uri": "https://localhost:8080/"
        },
        "id": "asONPSIFkEx3",
        "outputId": "9b49bbfb-1a5b-48ec-9c90-01b0b24bc48a"
      },
      "outputs": [
        {
          "output_type": "stream",
          "name": "stdout",
          "text": [
            "Requirement already satisfied: transformers in /usr/local/lib/python3.10/dist-packages (4.37.2)\n",
            "Requirement already satisfied: filelock in /usr/local/lib/python3.10/dist-packages (from transformers) (3.13.1)\n",
            "Requirement already satisfied: huggingface-hub<1.0,>=0.19.3 in /usr/local/lib/python3.10/dist-packages (from transformers) (0.20.3)\n",
            "Requirement already satisfied: numpy>=1.17 in /usr/local/lib/python3.10/dist-packages (from transformers) (1.25.2)\n",
            "Requirement already satisfied: packaging>=20.0 in /usr/local/lib/python3.10/dist-packages (from transformers) (23.2)\n",
            "Requirement already satisfied: pyyaml>=5.1 in /usr/local/lib/python3.10/dist-packages (from transformers) (6.0.1)\n",
            "Requirement already satisfied: regex!=2019.12.17 in /usr/local/lib/python3.10/dist-packages (from transformers) (2023.12.25)\n",
            "Requirement already satisfied: requests in /usr/local/lib/python3.10/dist-packages (from transformers) (2.31.0)\n",
            "Requirement already satisfied: tokenizers<0.19,>=0.14 in /usr/local/lib/python3.10/dist-packages (from transformers) (0.15.2)\n",
            "Requirement already satisfied: safetensors>=0.4.1 in /usr/local/lib/python3.10/dist-packages (from transformers) (0.4.2)\n",
            "Requirement already satisfied: tqdm>=4.27 in /usr/local/lib/python3.10/dist-packages (from transformers) (4.66.2)\n",
            "Requirement already satisfied: fsspec>=2023.5.0 in /usr/local/lib/python3.10/dist-packages (from huggingface-hub<1.0,>=0.19.3->transformers) (2023.6.0)\n",
            "Requirement already satisfied: typing-extensions>=3.7.4.3 in /usr/local/lib/python3.10/dist-packages (from huggingface-hub<1.0,>=0.19.3->transformers) (4.9.0)\n",
            "Requirement already satisfied: charset-normalizer<4,>=2 in /usr/local/lib/python3.10/dist-packages (from requests->transformers) (3.3.2)\n",
            "Requirement already satisfied: idna<4,>=2.5 in /usr/local/lib/python3.10/dist-packages (from requests->transformers) (3.6)\n",
            "Requirement already satisfied: urllib3<3,>=1.21.1 in /usr/local/lib/python3.10/dist-packages (from requests->transformers) (2.0.7)\n",
            "Requirement already satisfied: certifi>=2017.4.17 in /usr/local/lib/python3.10/dist-packages (from requests->transformers) (2024.2.2)\n"
          ]
        }
      ],
      "source": [
        "!pip install transformers"
      ]
    },
    {
      "cell_type": "code",
      "execution_count": null,
      "metadata": {
        "id": "YoWs_ms5XRw-"
      },
      "outputs": [],
      "source": [
        "import numpy as np;\n",
        "import pandas as pd;\n",
        "\n",
        "import torch;\n",
        "\n",
        "from transformers import BertTokenizer, BertForSequenceClassification, BertConfig , AutoTokenizer;\n",
        "from torch.utils.data import TensorDataset, random_split, DataLoader, RandomSampler, SequentialSampler;\n",
        "from transformers import get_linear_schedule_with_warmup;\n",
        "from torch.optim import AdamW\n",
        "from sklearn.metrics import accuracy_score, precision_score, recall_score, f1_score;"
      ]
    },
    {
      "cell_type": "markdown",
      "source": [],
      "metadata": {
        "id": "B9PPn_iT2BjB"
      }
    },
    {
      "cell_type": "code",
      "execution_count": null,
      "metadata": {
        "colab": {
          "base_uri": "https://localhost:8080/"
        },
        "id": "H3Tnbtw2vdYP",
        "outputId": "2deab830-9ff3-44d7-c1be-b2a72e9cd5d5"
      },
      "outputs": [
        {
          "output_type": "stream",
          "name": "stdout",
          "text": [
            "Mounted at /content/gdrive\n"
          ]
        }
      ],
      "source": [
        "from google.colab import drive;\n",
        "\n",
        "drive.mount('/content/gdrive');"
      ]
    },
    {
      "cell_type": "code",
      "execution_count": null,
      "metadata": {
        "id": "_2-siB8mvsMB",
        "colab": {
          "base_uri": "https://localhost:8080/"
        },
        "outputId": "98d1b413-ca41-4e39-99ee-0cadb95000a1"
      },
      "outputs": [
        {
          "output_type": "stream",
          "name": "stdout",
          "text": [
            "Cloning into 'DDI_ouv_rech'...\n",
            "remote: Enumerating objects: 16, done.\u001b[K\n",
            "remote: Counting objects: 100% (16/16), done.\u001b[K\n",
            "remote: Compressing objects: 100% (13/13), done.\u001b[K\n",
            "remote: Total 16 (delta 4), reused 15 (delta 3), pack-reused 0\u001b[K\n",
            "Receiving objects: 100% (16/16), 2.73 MiB | 5.51 MiB/s, done.\n",
            "Resolving deltas: 100% (4/4), done.\n"
          ]
        }
      ],
      "source": [
        "!git clone https://github.com/kapatallo/DDI_ouv_rech.git"
      ]
    },
    {
      "cell_type": "code",
      "execution_count": null,
      "metadata": {
        "id": "faVk54t8vz8r",
        "colab": {
          "base_uri": "https://localhost:8080/"
        },
        "outputId": "9a7bc228-9496-4604-c892-99884424e5f2"
      },
      "outputs": [
        {
          "output_type": "stream",
          "name": "stdout",
          "text": [
            "mv: inter-device move failed: 'DDI_ouv_rech' to '/content/gdrive/MyDrive/DDI_ouv_rech'; unable to remove target: Directory not empty\n"
          ]
        }
      ],
      "source": [
        "!mv DDI_ouv_rech /content/gdrive/MyDrive/"
      ]
    },
    {
      "cell_type": "code",
      "execution_count": null,
      "metadata": {
        "id": "aWCBSuIkv4zR"
      },
      "outputs": [],
      "source": [
        "path='/content/gdrive/MyDrive/DDI_ouv_rech/';"
      ]
    },
    {
      "cell_type": "markdown",
      "metadata": {
        "id": "nLZ_N-yjirhs"
      },
      "source": []
    },
    {
      "cell_type": "code",
      "execution_count": null,
      "metadata": {
        "id": "wyDEqFV-ibrl"
      },
      "outputs": [],
      "source": [
        "df = pd.read_csv( path +  'train_marked_v1.csv', delimiter=',', quotechar='\"', names=['sentence', 'label', 'drug1', 'drug2'])\n",
        "\n",
        "sentences = df.sentence.values\n",
        "labels = df.label.values"
      ]
    },
    {
      "cell_type": "code",
      "execution_count": null,
      "metadata": {
        "id": "cEgaAlyIixVU",
        "colab": {
          "base_uri": "https://localhost:8080/"
        },
        "outputId": "8e2a0f76-e657-43fc-a2a3-5ab944bcbcb2"
      },
      "outputs": [
        {
          "output_type": "stream",
          "name": "stdout",
          "text": [
            "['sentence'\n",
            " 'Milk, milk products, and DRUG1-rich foods or drugs may impair the absorption of DRUG2.'\n",
            " 'The concurrent administration of DRUG1 and DRUG2 increases substantially the incidence of rashes in patients receiving both drugs as compared to patients receiving DRUG2 alone.'\n",
            " ...\n",
            " 'To determine whether DRUG2 has a direct effect on the distribution of DRUG1, the elimination and distribution of DRUG1 was studied in six patients, five lacking kidney function and one with a partially impaired renal function, in the presence or absence of DRUG2. '\n",
            " 'No significant difference was found between the mean values of the volume of distribution of DRUG1 with and without DRUG2 (13.0 and 12.6 liters, respectively). '\n",
            " 'This might be explained by a blockade by DRUG1 of the elimination of DRUG2 by the liver.']\n"
          ]
        }
      ],
      "source": [
        "print(sentences)"
      ]
    },
    {
      "cell_type": "code",
      "source": [
        "import seaborn as sns\n",
        "\n",
        "# Extracting the 'sentence' and 'label' columns from the DataFrame\n",
        "text, label = list(df['sentence']), list(df['label'])\n",
        "\n",
        "# Creating the count plot using Seaborn, directly passing the list of labels\n",
        "sns.countplot(x=label[1:])\n"
      ],
      "metadata": {
        "colab": {
          "base_uri": "https://localhost:8080/",
          "height": 448
        },
        "id": "n85AEMIo7xcP",
        "outputId": "5a62cdd6-f9e5-417a-d15b-b991d21abd19"
      },
      "execution_count": null,
      "outputs": [
        {
          "output_type": "execute_result",
          "data": {
            "text/plain": [
              "<Axes: ylabel='count'>"
            ]
          },
          "metadata": {},
          "execution_count": 9
        },
        {
          "output_type": "display_data",
          "data": {
            "text/plain": [
              "<Figure size 640x480 with 1 Axes>"
            ],
            "image/png": "[encoded data removed]"
          },
          "metadata": {}
        }
      ]
    },
    {
      "cell_type": "code",
      "execution_count": null,
      "metadata": {
        "id": "hZUN3_Arx6XZ"
      },
      "outputs": [],
      "source": [
        "device = torch.device('cuda');\n",
        "\n",
        "SEED = 42;\n",
        "\n",
        "torch.manual_seed(SEED);\n",
        "torch.backends.cudnn.deterministic = True;"
      ]
    },
    {
      "cell_type": "code",
      "execution_count": null,
      "metadata": {
        "id": "3K_UV22SyEI1"
      },
      "outputs": [],
      "source": [
        "def accuracy(preds, labels):\n",
        "    preds = np.argmax(preds, axis=1).flatten();\n",
        "    labels = labels.flatten();\n",
        "\n",
        "    return np.sum(preds == labels) / len(labels);"
      ]
    },
    {
      "cell_type": "code",
      "source": [
        "def accuracy_by_class(preds, labels):\n",
        "    preds = np.argmax(preds, axis=1).flatten()\n",
        "    labels = labels.flatten()\n",
        "\n",
        "    # Trouver les classes uniques dans les étiquettes réelles\n",
        "    unique_classes = np.unique(labels)\n",
        "\n",
        "    # Initialiser un dictionnaire pour stocker l'exactitude par classe\n",
        "    acc_by_class = {}\n",
        "\n",
        "    # Calculer l'exactitude pour chaque classe\n",
        "    for cls in unique_classes:\n",
        "        # Sélectionner les prédictions et les étiquettes réelles pour la classe donnée\n",
        "        class_preds = preds[labels == cls]\n",
        "        class_labels = labels[labels == cls]\n",
        "\n",
        "        # Calculer l'exactitude pour la classe donnée\n",
        "        class_accuracy = np.sum(class_preds == class_labels) / len(class_labels)\n",
        "\n",
        "        # Stocker l'exactitude de la classe dans le dictionnaire\n",
        "        acc_by_class[cls] = class_accuracy\n",
        "\n",
        "    return acc_by_class"
      ],
      "metadata": {
        "id": "33lDYLl86w4v"
      },
      "execution_count": null,
      "outputs": []
    },
    {
      "cell_type": "code",
      "execution_count": null,
      "metadata": {
        "id": "-2r7NiFLyKKa"
      },
      "outputs": [],
      "source": [
        "\"\"\"\n",
        "    Params:\n",
        "        filepath: path of the dataset\n",
        "        tokenizer: tokenizer to use\n",
        "        maxlen: maxlength of text\n",
        "\"\"\"\n",
        "def load_and_process_train_data(filepath, tokenizer, maxlen=512, train_percentage=0.7):\n",
        "    # load dataset\n",
        "    df = pd.read_csv(filepath, delimiter=',', quotechar='\"', names=['sentence', 'label', 'drug1', 'drug2'])\n",
        "\n",
        "\n",
        "    sentences = df.sentence.values;\n",
        "    sentences = sentences[1:]\n",
        "\n",
        "    labels = df.label.values;\n",
        "\n",
        "    input_ids = [];\n",
        "    attention_masks = [];\n",
        "\n",
        "    for sent in sentences:\n",
        "        encoded_dict = tokenizer.encode_plus(\n",
        "            sent,\n",
        "            add_special_tokens=True,\n",
        "            max_length=maxlen,\n",
        "            padding='max_length',\n",
        "            truncation=True,\n",
        "            return_attention_mask=True,\n",
        "            return_tensors='pt'\n",
        "        );\n",
        "\n",
        "        input_ids.append(encoded_dict['input_ids']);\n",
        "        attention_masks.append(encoded_dict['attention_mask']);\n",
        "\n",
        "    # convert lists into tensors\n",
        "    input_ids = torch.cat(input_ids, dim=0);\n",
        "    attention_masks = torch.cat(attention_masks, dim=0);\n",
        "    labels = labels[1:]\n",
        "    label_mapping = {'negative': 0,'advise': 1, 'effect': 2,'mechanism':3,'int':4}\n",
        "\n",
        "    labels = np.array([label_mapping[label] for label in labels])\n",
        "    labels_tensor = torch.tensor(labels);\n",
        "\n",
        "    dataset = TensorDataset(input_ids, attention_masks, labels_tensor);\n",
        "\n",
        "    train_size = int(train_percentage * len(dataset));\n",
        "    val_size = len(dataset) - train_size;\n",
        "\n",
        "    train_dataset, val_dataset = random_split(dataset, [train_size, val_size]);\n",
        "\n",
        "    return (train_dataset, val_dataset);"
      ]
    },
    {
      "cell_type": "code",
      "execution_count": null,
      "metadata": {
        "id": "BzMbE3dwyKVu"
      },
      "outputs": [],
      "source": [
        "def train_model(model, data, optimizer=AdamW, batch_size=16, epochs=3):\n",
        "\n",
        "    max_val_loss = float('inf')\n",
        "\n",
        "\n",
        "    train_ds = data[0];\n",
        "    val_ds = data[1];\n",
        "\n",
        "    train_dataloader = DataLoader(\n",
        "        train_ds,\n",
        "        sampler=RandomSampler(train_ds),\n",
        "        batch_size=batch_size\n",
        "    );\n",
        "\n",
        "    val_dataloader = DataLoader(\n",
        "        val_ds,\n",
        "        sampler=SequentialSampler(val_ds),\n",
        "        batch_size=batch_size\n",
        "    );\n",
        "\n",
        "    for e in range(epochs):\n",
        "        train_loss = 0;\n",
        "        train_acc = 0;\n",
        "\n",
        "        model.train();\n",
        "\n",
        "        optim = optimizer(model.parameters(), lr=2e-5, eps=1e-8);\n",
        "\n",
        "        scheduler = get_linear_schedule_with_warmup(\n",
        "            optim,\n",
        "            num_warmup_steps=0,\n",
        "            num_training_steps=len(train_dataloader) * epochs\n",
        "        );\n",
        "\n",
        "        for batch in train_dataloader:\n",
        "            b_input_ids = batch[0].to(device);\n",
        "            b_input_mask = batch[1].to(device);\n",
        "            b_labels = batch[2].to(device);\n",
        "\n",
        "            model.zero_grad();\n",
        "\n",
        "            output = model(\n",
        "                b_input_ids,\n",
        "                token_type_ids=None,\n",
        "                attention_mask=b_input_mask,\n",
        "                labels=b_labels\n",
        "            );\n",
        "\n",
        "            loss = output['loss'];\n",
        "            preds = output['logits'].detach().cpu().numpy();\n",
        "            labels = b_labels.to('cpu').numpy();\n",
        "\n",
        "            train_loss += loss.item();\n",
        "            train_acc += accuracy(preds, labels);\n",
        "\n",
        "            loss.backward();\n",
        "\n",
        "            torch.nn.utils.clip_grad_norm_(model.parameters(), 1.0);\n",
        "\n",
        "            optim.step();\n",
        "\n",
        "            scheduler.step();\n",
        "\n",
        "        avg_train_loss = train_loss / len(train_dataloader);\n",
        "        avg_train_acc = train_acc / len(train_dataloader);\n",
        "\n",
        "        print('average training loss for epoch: {}'.format(avg_train_loss));\n",
        "        print('average training accuracy for epoch: {}'.format(avg_train_acc));\n",
        "\n",
        "        # validation\n",
        "        val_loss = 0;\n",
        "        val_acc = 0;\n",
        "\n",
        "        model.eval();\n",
        "\n",
        "        for batch in val_dataloader:\n",
        "            b_input_ids = batch[0].to(device);\n",
        "            b_attention_mask = batch[1].to(device);\n",
        "            b_labels = batch[2].to(device);\n",
        "\n",
        "            with torch.no_grad():\n",
        "                output = model(\n",
        "                    b_input_ids,\n",
        "                    token_type_ids=None,\n",
        "                    attention_mask=b_attention_mask,\n",
        "                    labels=b_labels\n",
        "                );\n",
        "\n",
        "            loss = output['loss'];\n",
        "            preds = output['logits'].detach().cpu().numpy();\n",
        "            labels = b_labels.to('cpu').numpy();\n",
        "\n",
        "            val_loss += loss.item();\n",
        "            val_acc += accuracy(preds, labels);\n",
        "\n",
        "        avg_val_loss = val_loss / len(val_dataloader);\n",
        "        avg_val_acc = val_acc / len(val_dataloader);\n",
        "\n",
        "        if avg_val_loss < max_val_loss:\n",
        "            max_val_loss = avg_val_loss;\n",
        "            torch.save(model.state_dict(), 'best_model.pt');\n",
        "\n",
        "        print('average validation loss for epoch: {}'.format(avg_val_loss));\n",
        "        print('average validation accuracy for epoch: {}'.format(avg_val_acc));"
      ]
    },
    {
      "cell_type": "code",
      "execution_count": null,
      "metadata": {
        "colab": {
          "base_uri": "https://localhost:8080/",
          "height": 349,
          "referenced_widgets": [
            "5d338dd4c6054195bedc511f76e98e48",
            "a93433f76c7d44c6844a70a1493d55bc",
            "1f6325467c424f2290f23cc28b5ab3f4",
            "ae19198c18184e15b50a529ad32ef7df",
            "b236271e13404865be14fac6206abb3f",
            "abdd5eb717e944c6aef65479c0bb9f99",
            "c09c5e591d704a68ab74e43065a04170",
            "d82979e7c3fa40ad95be2d95ad052b2f",
            "2838d6f6dba74b81a97816153d4a5094",
            "3f317cdbbcd04cc0955893afe9d4f7a6",
            "60dd2933bdf1463d8b48de93f73b6184",
            "16ba068cb9c146d0a703f2c024667ff2",
            "43bcf4a38e834548a8e9ba3d3adeac20",
            "d786b822d9f448d3ab719e10eba9f89b",
            "d9f644bdda8c4c01a1474b0d9dc606d2",
            "7ab78b4a02a54437b8d983151e761ab5",
            "31a943ccc2a54a46a59afb286719941a",
            "6f6303d4b059445f993ca8156bf1cec6",
            "206fe05eda834ac8bc3117b09fc4fda2",
            "3124284e3f8e4792a3d7bd76704a7781",
            "ea12c846723e43bf9fd00919013451a5",
            "74ea28d9f1c442208653a838ad8802f8",
            "39b2060c23a44c1dafa95495c5f73c7f",
            "c24d24beee7e45cda037f0f057564e0e",
            "d36448fb3c714db1b0d3eec2664da067",
            "f4aef6d965bd47188567f28c8714daf7",
            "10d7ca93ba0f45f3b017aade9bcd349c",
            "13d3662b651b437a8bb754717e06091d",
            "08f3f161302041ca88bcf245b070892b",
            "7c9bb405e6d542498552782e737db4a9",
            "dfc269dab64b450ab3e5c92065d1cc46",
            "f6e75755ed324bbdad18bfe42d624fa5",
            "e00e99d71b0d4355b8ca1e235c3fcdae",
            "9b090c9203764c5b869c0d4ebc6b25af",
            "db9ba6e390f645f1a2ba8b0173668642",
            "a0cf94a9d2f04aaf9e47dcc56f552675",
            "27ceb353c984405687314f3c8dce4dc6",
            "2532fa910c0b46798e61a1742912af9b",
            "3e79279a47f747699dbfa272c347a4a8",
            "6d51ac45cf454487a3d6000dca5470e7",
            "bb0bdda196004e61936beafa0980601e",
            "aa4824fec5a74a19b70a4bed97598c78",
            "246f6f83dab94923923b8e7c3009389b",
            "877761c4d304474a873a8a1e1b60cff8"
          ]
        },
        "id": "feFEZWEXy1cF",
        "outputId": "b9da459c-8975-4ed9-ebc9-859090212d28"
      },
      "outputs": [
        {
          "output_type": "stream",
          "name": "stderr",
          "text": [
            "/usr/local/lib/python3.10/dist-packages/huggingface_hub/utils/_token.py:88: UserWarning: \n",
            "The secret `HF_TOKEN` does not exist in your Colab secrets.\n",
            "To authenticate with the Hugging Face Hub, create a token in your settings tab (https://huggingface.co/settings/tokens), set it as secret in your Google Colab and restart your session.\n",
            "You will be able to reuse this secret in all of your notebooks.\n",
            "Please note that authentication is recommended but still optional to access public models or datasets.\n",
            "  warnings.warn(\n"
          ]
        },
        {
          "output_type": "display_data",
          "data": {
            "text/plain": [
              "config.json:   0%|          | 0.00/385 [00:00<?, ?B/s]"
            ],
            "application/vnd.jupyter.widget-view+json": {
              "version_major": 2,
              "version_minor": 0,
              "model_id": "5d338dd4c6054195bedc511f76e98e48"
            }
          },
          "metadata": {}
        },
        {
          "output_type": "display_data",
          "data": {
            "text/plain": [
              "vocab.txt:   0%|          | 0.00/228k [00:00<?, ?B/s]"
            ],
            "application/vnd.jupyter.widget-view+json": {
              "version_major": 2,
              "version_minor": 0,
              "model_id": "16ba068cb9c146d0a703f2c024667ff2"
            }
          },
          "metadata": {}
        },
        {
          "output_type": "display_data",
          "data": {
            "text/plain": [
              "config.json:   0%|          | 0.00/385 [00:00<?, ?B/s]"
            ],
            "application/vnd.jupyter.widget-view+json": {
              "version_major": 2,
              "version_minor": 0,
              "model_id": "39b2060c23a44c1dafa95495c5f73c7f"
            }
          },
          "metadata": {}
        },
        {
          "output_type": "display_data",
          "data": {
            "text/plain": [
              "pytorch_model.bin:   0%|          | 0.00/442M [00:00<?, ?B/s]"
            ],
            "application/vnd.jupyter.widget-view+json": {
              "version_major": 2,
              "version_minor": 0,
              "model_id": "9b090c9203764c5b869c0d4ebc6b25af"
            }
          },
          "metadata": {}
        },
        {
          "output_type": "stream",
          "name": "stderr",
          "text": [
            "/usr/local/lib/python3.10/dist-packages/torch/_utils.py:831: UserWarning: TypedStorage is deprecated. It will be removed in the future and UntypedStorage will be the only storage class. This should only matter to you if you are using storages directly.  To access UntypedStorage directly, use tensor.untyped_storage() instead of tensor.storage()\n",
            "  return self.fget.__get__(instance, owner)()\n",
            "Some weights of BertForSequenceClassification were not initialized from the model checkpoint at allenai/scibert_scivocab_cased and are newly initialized: ['classifier.bias', 'classifier.weight']\n",
            "You should probably TRAIN this model on a down-stream task to be able to use it for predictions and inference.\n"
          ]
        }
      ],
      "source": [
        "tokenizer = AutoTokenizer.from_pretrained(\"allenai/scibert_scivocab_uncased\")\n",
        "model = BertForSequenceClassification.from_pretrained(\"allenai/scibert_scivocab_cased\", num_labels=5)"
      ]
    },
    {
      "cell_type": "code",
      "source": [
        "model.cuda();\n",
        "epochs = 2;"
      ],
      "metadata": {
        "id": "FhQQuAINBRYX"
      },
      "execution_count": null,
      "outputs": []
    },
    {
      "cell_type": "code",
      "execution_count": null,
      "metadata": {
        "id": "ZQ3YL7QQ03cZ"
      },
      "outputs": [],
      "source": [
        "data = load_and_process_train_data(path + 'train_marked_v1.csv', tokenizer=tokenizer, maxlen=128);"
      ]
    },
    {
      "cell_type": "code",
      "execution_count": null,
      "metadata": {
        "colab": {
          "base_uri": "https://localhost:8080/"
        },
        "id": "WueYOwjo77z0",
        "outputId": "c20cf9ed-08be-4221-c50b-0c26a4b6b4ee"
      },
      "outputs": [
        {
          "output_type": "stream",
          "name": "stdout",
          "text": [
            "average training loss for epoch: 0.43706181105593905\n",
            "average training accuracy for epoch: 0.8702860667293233\n",
            "average validation loss for epoch: 0.31965860524357537\n",
            "average validation accuracy for epoch: 0.9034961685823755\n",
            "average training loss for epoch: 0.25217365321077523\n",
            "average training accuracy for epoch: 0.9135338345864662\n",
            "average validation loss for epoch: 0.24302418505856804\n",
            "average validation accuracy for epoch: 0.9201388888888888\n",
            "average training loss for epoch: 0.20430666242358902\n",
            "average training accuracy for epoch: 0.9307668585526315\n",
            "average validation loss for epoch: 0.2152376504999878\n",
            "average validation accuracy for epoch: 0.9261254789272031\n"
          ]
        }
      ],
      "source": [
        "#results for multi\n",
        "model.to(device)\n",
        "train_model(model, data);"
      ]
    },
    {
      "cell_type": "markdown",
      "metadata": {
        "id": "zWlLZTZBq1au"
      },
      "source": [
        "-------------------------\n"
      ]
    },
    {
      "cell_type": "markdown",
      "metadata": {
        "id": "zOvgaC0hrCxr"
      },
      "source": [
        "---------------------\n"
      ]
    },
    {
      "cell_type": "code",
      "execution_count": null,
      "metadata": {
        "id": "-WTXMD-l21ko"
      },
      "outputs": [],
      "source": [
        "from IPython.display import display;"
      ]
    },
    {
      "cell_type": "code",
      "execution_count": null,
      "metadata": {
        "id": "Wl9LBgJ92Wlq"
      },
      "outputs": [],
      "source": [
        "def load_and_process_test_data(filepath, tokenizer, maxlen=512):\n",
        "    # load dataset\n",
        "    df = pd.read_csv(filepath, delimiter=',', quotechar='\"', names=['sentence', 'label', 'drug1', 'drug2'])\n",
        "    sentences = df.sentence.values;\n",
        "    labels = df.label.values;\n",
        "\n",
        "\n",
        "    input_ids = [];\n",
        "    attention_masks = [];\n",
        "\n",
        "    sentences = sentences[1:]\n",
        "    labels=labels[1:]\n",
        "\n",
        "    for sent in sentences:\n",
        "        encoded_dict = tokenizer.encode_plus(\n",
        "            sent,\n",
        "            add_special_tokens=True,\n",
        "            max_length=maxlen,\n",
        "            padding='max_length',\n",
        "            truncation=True,\n",
        "            return_attention_mask=True,\n",
        "            return_tensors='pt'\n",
        "        );\n",
        "\n",
        "        input_ids.append(encoded_dict['input_ids']);\n",
        "        attention_masks.append(encoded_dict['attention_mask']);\n",
        "\n",
        "    # convert lists into tensors\n",
        "    input_ids = torch.cat(input_ids, dim=0);\n",
        "    attention_masks = torch.cat(attention_masks, dim=0);\n",
        "    label_mapping = {'negative': 0,'advise': 1, 'effect':2,'mechanism':3,'int':4}\n",
        "    #label_mapping = {'negative': 0,'advise': 1, 'effect':1,'mechanism':1,'int':1}\n",
        "    labels = np.array([label_mapping[label] for label in labels])\n",
        "    labels_tensor = torch.tensor(labels);\n",
        "\n",
        "    dataset = TensorDataset(input_ids, attention_masks, labels_tensor);\n",
        "\n",
        "    return dataset;"
      ]
    },
    {
      "cell_type": "code",
      "execution_count": null,
      "metadata": {
        "id": "2AB7MxJKrWzX"
      },
      "outputs": [],
      "source": [
        "def test_model(model, data, batch_size=32):\n",
        "    model.load_state_dict(torch.load('best_model.pt'));\n",
        "\n",
        "    model.eval();\n",
        "\n",
        "    ds = data;\n",
        "\n",
        "    test_dataloader = DataLoader(\n",
        "        ds,\n",
        "        sampler=SequentialSampler(ds),\n",
        "        batch_size=batch_size,\n",
        "    );\n",
        "\n",
        "    preds_list, real_labels_list = [], [];\n",
        "\n",
        "    for batch_nbr, batch in enumerate(test_dataloader):\n",
        "        b_input_ids = batch[0].to(device);\n",
        "        b_input_mask = batch[1].to(device);\n",
        "        b_labels = batch[2].to(device);\n",
        "\n",
        "        with torch.no_grad():\n",
        "            outputs = model(\n",
        "                b_input_ids,\n",
        "                token_type_ids=None,\n",
        "                attention_mask=b_input_mask\n",
        "            );\n",
        "\n",
        "        logits = outputs['logits'].detach().cpu().numpy();\n",
        "        label_ids = b_labels.to('cpu').numpy();\n",
        "        preds = np.argmax(logits, axis=1);\n",
        "\n",
        "        preds_list.append(preds);\n",
        "        real_labels_list.append(label_ids);\n",
        "\n",
        "        print('finished batch {}'.format(batch_nbr));\n",
        "\n",
        "    ret = (\n",
        "        preds_list,\n",
        "        real_labels_list\n",
        "    );\n",
        "\n",
        "    return ret;"
      ]
    },
    {
      "cell_type": "code",
      "execution_count": null,
      "metadata": {
        "id": "JnOotvpmrrZ_",
        "colab": {
          "base_uri": "https://localhost:8080/"
        },
        "outputId": "d1909f6a-f88b-48fd-b006-cdd12bdbfcba"
      },
      "outputs": [
        {
          "output_type": "stream",
          "name": "stdout",
          "text": [
            "finished batch 0\n",
            "finished batch 1\n",
            "finished batch 2\n",
            "finished batch 3\n",
            "finished batch 4\n",
            "finished batch 5\n",
            "finished batch 6\n",
            "finished batch 7\n",
            "finished batch 8\n",
            "finished batch 9\n",
            "finished batch 10\n",
            "finished batch 11\n",
            "finished batch 12\n",
            "finished batch 13\n",
            "finished batch 14\n",
            "finished batch 15\n",
            "finished batch 16\n",
            "finished batch 17\n",
            "finished batch 18\n",
            "finished batch 19\n",
            "finished batch 20\n",
            "finished batch 21\n",
            "finished batch 22\n",
            "finished batch 23\n",
            "finished batch 24\n",
            "finished batch 25\n",
            "finished batch 26\n",
            "finished batch 27\n",
            "finished batch 28\n",
            "finished batch 29\n",
            "finished batch 30\n",
            "finished batch 31\n",
            "finished batch 32\n",
            "finished batch 33\n",
            "finished batch 34\n",
            "finished batch 35\n",
            "finished batch 36\n",
            "finished batch 37\n",
            "finished batch 38\n",
            "finished batch 39\n",
            "finished batch 40\n",
            "finished batch 41\n",
            "finished batch 42\n",
            "finished batch 43\n",
            "finished batch 44\n",
            "finished batch 45\n",
            "finished batch 46\n",
            "finished batch 47\n",
            "finished batch 48\n",
            "finished batch 49\n",
            "finished batch 50\n",
            "finished batch 51\n",
            "finished batch 52\n",
            "finished batch 53\n",
            "finished batch 54\n",
            "finished batch 55\n",
            "finished batch 56\n",
            "finished batch 57\n",
            "finished batch 58\n",
            "finished batch 59\n",
            "finished batch 60\n",
            "finished batch 61\n",
            "finished batch 62\n",
            "finished batch 63\n",
            "finished batch 64\n",
            "finished batch 65\n",
            "finished batch 66\n",
            "finished batch 67\n",
            "finished batch 68\n",
            "finished batch 69\n",
            "finished batch 70\n",
            "finished batch 71\n",
            "finished batch 72\n",
            "finished batch 73\n",
            "finished batch 74\n",
            "finished batch 75\n",
            "finished batch 76\n",
            "finished batch 77\n",
            "finished batch 78\n",
            "finished batch 79\n",
            "finished batch 80\n",
            "finished batch 81\n",
            "finished batch 82\n",
            "finished batch 83\n",
            "finished batch 84\n",
            "finished batch 85\n",
            "finished batch 86\n",
            "finished batch 87\n",
            "finished batch 88\n",
            "finished batch 89\n",
            "finished batch 90\n",
            "finished batch 91\n",
            "finished batch 92\n",
            "finished batch 93\n",
            "finished batch 94\n",
            "finished batch 95\n",
            "finished batch 96\n",
            "finished batch 97\n",
            "finished batch 98\n",
            "finished batch 99\n",
            "finished batch 100\n",
            "finished batch 101\n",
            "finished batch 102\n",
            "finished batch 103\n",
            "finished batch 104\n",
            "finished batch 105\n",
            "finished batch 106\n",
            "finished batch 107\n",
            "finished batch 108\n",
            "finished batch 109\n",
            "finished batch 110\n",
            "finished batch 111\n",
            "finished batch 112\n",
            "finished batch 113\n",
            "finished batch 114\n",
            "finished batch 115\n",
            "finished batch 116\n",
            "finished batch 117\n",
            "finished batch 118\n",
            "finished batch 119\n",
            "finished batch 120\n",
            "finished batch 121\n",
            "finished batch 122\n",
            "finished batch 123\n",
            "finished batch 124\n",
            "finished batch 125\n",
            "finished batch 126\n",
            "finished batch 127\n",
            "finished batch 128\n",
            "finished batch 129\n",
            "finished batch 130\n",
            "finished batch 131\n",
            "finished batch 132\n",
            "finished batch 133\n",
            "finished batch 134\n",
            "finished batch 135\n",
            "finished batch 136\n",
            "finished batch 137\n",
            "finished batch 138\n",
            "finished batch 139\n",
            "finished batch 140\n",
            "finished batch 141\n",
            "finished batch 142\n",
            "finished batch 143\n",
            "finished batch 144\n",
            "finished batch 145\n",
            "finished batch 146\n",
            "finished batch 147\n",
            "finished batch 148\n",
            "finished batch 149\n",
            "finished batch 150\n",
            "finished batch 151\n",
            "finished batch 152\n",
            "finished batch 153\n",
            "finished batch 154\n",
            "finished batch 155\n",
            "finished batch 156\n",
            "finished batch 157\n",
            "finished batch 158\n",
            "finished batch 159\n",
            "finished batch 160\n",
            "finished batch 161\n",
            "finished batch 162\n",
            "finished batch 163\n",
            "finished batch 164\n",
            "finished batch 165\n",
            "finished batch 166\n",
            "finished batch 167\n",
            "finished batch 168\n",
            "finished batch 169\n",
            "finished batch 170\n",
            "finished batch 171\n",
            "finished batch 172\n",
            "finished batch 173\n",
            "finished batch 174\n",
            "finished batch 175\n",
            "finished batch 176\n",
            "finished batch 177\n",
            "finished batch 178\n"
          ]
        }
      ],
      "source": [
        "# load test_accumulated.tsv file\n",
        "avg_test_accuracy = 0;\n",
        "\n",
        "test_data = load_and_process_test_data(path + 'test_marked_v1.csv', tokenizer=tokenizer);\n",
        "\n",
        "ret = test_model(model, test_data);"
      ]
    },
    {
      "cell_type": "code",
      "execution_count": null,
      "metadata": {
        "colab": {
          "base_uri": "https://localhost:8080/"
        },
        "id": "gZKvLvZFruT-",
        "outputId": "c4e9cdd1-0936-44df-f81d-3ecdefee63e9"
      },
      "outputs": [
        {
          "output_type": "stream",
          "name": "stdout",
          "text": [
            "test predictions: [0 0 0 ... 0 0 0]\n",
            "real values: [3 0 0 ... 0 2 0]\n",
            "test accuracy: 0.870888733379986\n",
            "test precision: 0.8600059926905768\n",
            "test recall: 0.870888733379986\n",
            "test f1: 0.8585390081138877\n"
          ]
        }
      ],
      "source": [
        "preds = np.concatenate(ret[0]);\n",
        "real = np.concatenate(ret[1]);\n",
        "\n",
        "print('test predictions: {}'.format(preds));\n",
        "print('real values: {}'.format(real));\n",
        "\n",
        "test_acc = accuracy_score(real, preds);\n",
        "test_prec = precision_score(real, preds, average='weighted');\n",
        "test_rec = recall_score(real, preds, average='weighted');\n",
        "test_f1 = f1_score(real, preds,average='weighted');\n",
        "\n",
        "print('test accuracy: {}'.format(test_acc));\n",
        "print('test precision: {}'.format(test_prec));\n",
        "print('test recall: {}'.format(test_rec));\n",
        "print('test f1: {}'.format(test_f1));"
      ]
    },
    {
      "cell_type": "code",
      "source": [
        "from sklearn.metrics import confusion_matrix, ConfusionMatrixDisplay;\n",
        "cm = confusion_matrix(real, preds)\n",
        "cm"
      ],
      "metadata": {
        "id": "fweXeO7b79ax",
        "colab": {
          "base_uri": "https://localhost:8080/"
        },
        "outputId": "e738484c-400a-4cd9-ec56-0f4d3c84537a"
      },
      "execution_count": null,
      "outputs": [
        {
          "output_type": "execute_result",
          "data": {
            "text/plain": [
              "array([[4568,   11,  101,   32,   25],\n",
              "       [ 117,   96,    8,    0,    0],\n",
              "       [ 154,   11,  184,   11,    0],\n",
              "       [ 186,    0,   10,  106,    0],\n",
              "       [  25,    0,   47,    0,   24]])"
            ]
          },
          "metadata": {},
          "execution_count": 24
        }
      ]
    },
    {
      "cell_type": "code",
      "source": [
        "import numpy as np\n",
        "\n",
        "\n",
        "def plot_confusion_matrix(cm,\n",
        "                          target_names,\n",
        "                          title='Confusion matrix',\n",
        "                          cmap=None,\n",
        "                          normalize=True):\n",
        "    \"\"\"\n",
        "    given a sklearn confusion matrix (cm), make a nice plot\n",
        "\n",
        "    Arguments\n",
        "    ---------\n",
        "    cm:           confusion matrix from sklearn.metrics.confusion_matrix\n",
        "\n",
        "    target_names: given classification classes such as [0, 1, 2]\n",
        "                  the class names, for example: ['high', 'medium', 'low']\n",
        "\n",
        "    title:        the text to display at the top of the matrix\n",
        "\n",
        "    cmap:         the gradient of the values displayed from matplotlib.pyplot.cm\n",
        "                  see http://matplotlib.org/examples/color/colormaps_reference.html\n",
        "                  plt.get_cmap('jet') or plt.cm.Blues\n",
        "\n",
        "    normalize:    If False, plot the raw numbers\n",
        "                  If True, plot the proportions\n",
        "\n",
        "    Usage\n",
        "    -----\n",
        "    plot_confusion_matrix(cm           = cm,                  # confusion matrix created by\n",
        "                                                              # sklearn.metrics.confusion_matrix\n",
        "                          normalize    = True,                # show proportions\n",
        "                          target_names = y_labels_vals,       # list of names of the classes\n",
        "                          title        = best_estimator_name) # title of graph\n",
        "\n",
        "    Citiation\n",
        "    ---------\n",
        "    http://scikit-learn.org/stable/auto_examples/model_selection/plot_confusion_matrix.html\n",
        "\n",
        "    \"\"\"\n",
        "    import matplotlib.pyplot as plt\n",
        "    import numpy as np\n",
        "    import itertools\n",
        "\n",
        "    accuracy = np.trace(cm) / np.sum(cm).astype('float')\n",
        "    misclass = 1 - accuracy\n",
        "\n",
        "    if cmap is None:\n",
        "        cmap = plt.get_cmap('Blues')\n",
        "\n",
        "    plt.figure(figsize=(8, 6))\n",
        "    plt.imshow(cm, interpolation='nearest', cmap=cmap)\n",
        "    plt.title(title)\n",
        "    plt.colorbar()\n",
        "\n",
        "    if target_names is not None:\n",
        "        tick_marks = np.arange(len(target_names))\n",
        "        plt.xticks(tick_marks, target_names, rotation=45)\n",
        "        plt.yticks(tick_marks, target_names)\n",
        "\n",
        "    if normalize:\n",
        "        cm = cm.astype('float') / cm.sum(axis=1)[:, np.newaxis]\n",
        "\n",
        "\n",
        "    thresh = cm.max() / 1.5 if normalize else cm.max() / 2\n",
        "    for i, j in itertools.product(range(cm.shape[0]), range(cm.shape[1])):\n",
        "        if normalize:\n",
        "            plt.text(j, i, \"{:0.4f}\".format(cm[i, j]),\n",
        "                     horizontalalignment=\"center\",\n",
        "                     color=\"white\" if cm[i, j] > thresh else \"black\")\n",
        "        else:\n",
        "            plt.text(j, i, \"{:,}\".format(cm[i, j]),\n",
        "                     horizontalalignment=\"center\",\n",
        "                     color=\"white\" if cm[i, j] > thresh else \"black\")\n",
        "\n",
        "\n",
        "    plt.tight_layout()\n",
        "    plt.ylabel('True label')\n",
        "    plt.xlabel('Predicted label\\naccuracy={:0.4f}; misclass={:0.4f}'.format(accuracy, misclass))\n",
        "    plt.show()"
      ],
      "metadata": {
        "id": "V__ES83GU6wL"
      },
      "execution_count": null,
      "outputs": []
    },
    {
      "cell_type": "code",
      "source": [
        "target_names = ['negative','advise', 'effect','mechanism','int']"
      ],
      "metadata": {
        "id": "cJGipZVPA5Zg"
      },
      "execution_count": null,
      "outputs": []
    },
    {
      "cell_type": "code",
      "source": [
        "plot_confusion_matrix(cm,\n",
        "                          target_names,\n",
        "                          title='Confusion matrix',\n",
        "                          cmap=None,\n",
        "                          normalize=True)"
      ],
      "metadata": {
        "colab": {
          "base_uri": "https://localhost:8080/"
        },
        "id": "eGPsHef-WM6s",
        "outputId": "603e4578-6763-4456-99b1-c1195abce188"
      },
      "execution_count": null,
      "outputs": [
        {
          "output_type": "display_data",
          "data": {
            "text/plain": [
              "<Figure size 800x600 with 2 Axes>"
            ],
            "image/png": "[encoded data removed]"
          },
          "metadata": {}
        }
      ]
    }
  ],
  "metadata": {
    "accelerator": "GPU",
    "colab": {
      "provenance": []
    },
    "kernelspec": {
      "display_name": "Python 3",
      "name": "python3"
    },
    "widgets": {
      "application/vnd.jupyter.widget-state+json": {
        "5d338dd4c6054195bedc511f76e98e48": {
          "model_module": "@jupyter-widgets/controls",
          "model_name": "HBoxModel",
          "model_module_version": "1.5.0",
          "state": {
            "_dom_classes": [],
            "_model_module": "@jupyter-widgets/controls",
            "_model_module_version": "1.5.0",
            "_model_name": "HBoxModel",
            "_view_count": null,
            "_view_module": "@jupyter-widgets/controls",
            "_view_module_version": "1.5.0",
            "_view_name": "HBoxView",
            "box_style": "",
            "children": [
              "IPY_MODEL_a93433f76c7d44c6844a70a1493d55bc",
              "IPY_MODEL_1f6325467c424f2290f23cc28b5ab3f4",
              "IPY_MODEL_ae19198c18184e15b50a529ad32ef7df"
            ],
            "layout": "IPY_MODEL_b236271e13404865be14fac6206abb3f"
          }
        },
        "a93433f76c7d44c6844a70a1493d55bc": {
          "model_module": "@jupyter-widgets/controls",
          "model_name": "HTMLModel",
          "model_module_version": "1.5.0",
          "state": {
            "_dom_classes": [],
            "_model_module": "@jupyter-widgets/controls",
            "_model_module_version": "1.5.0",
            "_model_name": "HTMLModel",
            "_view_count": null,
            "_view_module": "@jupyter-widgets/controls",
            "_view_module_version": "1.5.0",
            "_view_name": "HTMLView",
            "description": "",
            "description_tooltip": null,
            "layout": "IPY_MODEL_abdd5eb717e944c6aef65479c0bb9f99",
            "placeholder": "​",
            "style": "IPY_MODEL_c09c5e591d704a68ab74e43065a04170",
            "value": "config.json: 100%"
          }
        },
        "1f6325467c424f2290f23cc28b5ab3f4": {
          "model_module": "@jupyter-widgets/controls",
          "model_name": "FloatProgressModel",
          "model_module_version": "1.5.0",
          "state": {
            "_dom_classes": [],
            "_model_module": "@jupyter-widgets/controls",
            "_model_module_version": "1.5.0",
            "_model_name": "FloatProgressModel",
            "_view_count": null,
            "_view_module": "@jupyter-widgets/controls",
            "_view_module_version": "1.5.0",
            "_view_name": "ProgressView",
            "bar_style": "success",
            "description": "",
            "description_tooltip": null,
            "layout": "IPY_MODEL_d82979e7c3fa40ad95be2d95ad052b2f",
            "max": 385,
            "min": 0,
            "orientation": "horizontal",
            "style": "IPY_MODEL_2838d6f6dba74b81a97816153d4a5094",
            "value": 385
          }
        },
        "ae19198c18184e15b50a529ad32ef7df": {
          "model_module": "@jupyter-widgets/controls",
          "model_name": "HTMLModel",
          "model_module_version": "1.5.0",
          "state": {
            "_dom_classes": [],
            "_model_module": "@jupyter-widgets/controls",
            "_model_module_version": "1.5.0",
            "_model_name": "HTMLModel",
            "_view_count": null,
            "_view_module": "@jupyter-widgets/controls",
            "_view_module_version": "1.5.0",
            "_view_name": "HTMLView",
            "description": "",
            "description_tooltip": null,
            "layout": "IPY_MODEL_3f317cdbbcd04cc0955893afe9d4f7a6",
            "placeholder": "​",
            "style": "IPY_MODEL_60dd2933bdf1463d8b48de93f73b6184",
            "value": " 385/385 [00:00&lt;00:00, 7.87kB/s]"
          }
        },
        "b236271e13404865be14fac6206abb3f": {
          "model_module": "@jupyter-widgets/base",
          "model_name": "LayoutModel",
          "model_module_version": "1.2.0",
          "state": {
            "_model_module": "@jupyter-widgets/base",
            "_model_module_version": "1.2.0",
            "_model_name": "LayoutModel",
            "_view_count": null,
            "_view_module": "@jupyter-widgets/base",
            "_view_module_version": "1.2.0",
            "_view_name": "LayoutView",
            "align_content": null,
            "align_items": null,
            "align_self": null,
            "border": null,
            "bottom": null,
            "display": null,
            "flex": null,
            "flex_flow": null,
            "grid_area": null,
            "grid_auto_columns": null,
            "grid_auto_flow": null,
            "grid_auto_rows": null,
            "grid_column": null,
            "grid_gap": null,
            "grid_row": null,
            "grid_template_areas": null,
            "grid_template_columns": null,
            "grid_template_rows": null,
            "height": null,
            "justify_content": null,
            "justify_items": null,
            "left": null,
            "margin": null,
            "max_height": null,
            "max_width": null,
            "min_height": null,
            "min_width": null,
            "object_fit": null,
            "object_position": null,
            "order": null,
            "overflow": null,
            "overflow_x": null,
            "overflow_y": null,
            "padding": null,
            "right": null,
            "top": null,
            "visibility": null,
            "width": null
          }
        },
        "abdd5eb717e944c6aef65479c0bb9f99": {
          "model_module": "@jupyter-widgets/base",
          "model_name": "LayoutModel",
          "model_module_version": "1.2.0",
          "state": {
            "_model_module": "@jupyter-widgets/base",
            "_model_module_version": "1.2.0",
            "_model_name": "LayoutModel",
            "_view_count": null,
            "_view_module": "@jupyter-widgets/base",
            "_view_module_version": "1.2.0",
            "_view_name": "LayoutView",
            "align_content": null,
            "align_items": null,
            "align_self": null,
            "border": null,
            "bottom": null,
            "display": null,
            "flex": null,
            "flex_flow": null,
            "grid_area": null,
            "grid_auto_columns": null,
            "grid_auto_flow": null,
            "grid_auto_rows": null,
            "grid_column": null,
            "grid_gap": null,
            "grid_row": null,
            "grid_template_areas": null,
            "grid_template_columns": null,
            "grid_template_rows": null,
            "height": null,
            "justify_content": null,
            "justify_items": null,
            "left": null,
            "margin": null,
            "max_height": null,
            "max_width": null,
            "min_height": null,
            "min_width": null,
            "object_fit": null,
            "object_position": null,
            "order": null,
            "overflow": null,
            "overflow_x": null,
            "overflow_y": null,
            "padding": null,
            "right": null,
            "top": null,
            "visibility": null,
            "width": null
          }
        },
        "c09c5e591d704a68ab74e43065a04170": {
          "model_module": "@jupyter-widgets/controls",
          "model_name": "DescriptionStyleModel",
          "model_module_version": "1.5.0",
          "state": {
            "_model_module": "@jupyter-widgets/controls",
            "_model_module_version": "1.5.0",
            "_model_name": "DescriptionStyleModel",
            "_view_count": null,
            "_view_module": "@jupyter-widgets/base",
            "_view_module_version": "1.2.0",
            "_view_name": "StyleView",
            "description_width": ""
          }
        },
        "d82979e7c3fa40ad95be2d95ad052b2f": {
          "model_module": "@jupyter-widgets/base",
          "model_name": "LayoutModel",
          "model_module_version": "1.2.0",
          "state": {
            "_model_module": "@jupyter-widgets/base",
            "_model_module_version": "1.2.0",
            "_model_name": "LayoutModel",
            "_view_count": null,
            "_view_module": "@jupyter-widgets/base",
            "_view_module_version": "1.2.0",
            "_view_name": "LayoutView",
            "align_content": null,
            "align_items": null,
            "align_self": null,
            "border": null,
            "bottom": null,
            "display": null,
            "flex": null,
            "flex_flow": null,
            "grid_area": null,
            "grid_auto_columns": null,
            "grid_auto_flow": null,
            "grid_auto_rows": null,
            "grid_column": null,
            "grid_gap": null,
            "grid_row": null,
            "grid_template_areas": null,
            "grid_template_columns": null,
            "grid_template_rows": null,
            "height": null,
            "justify_content": null,
            "justify_items": null,
            "left": null,
            "margin": null,
            "max_height": null,
            "max_width": null,
            "min_height": null,
            "min_width": null,
            "object_fit": null,
            "object_position": null,
            "order": null,
            "overflow": null,
            "overflow_x": null,
            "overflow_y": null,
            "padding": null,
            "right": null,
            "top": null,
            "visibility": null,
            "width": null
          }
        },
        "2838d6f6dba74b81a97816153d4a5094": {
          "model_module": "@jupyter-widgets/controls",
          "model_name": "ProgressStyleModel",
          "model_module_version": "1.5.0",
          "state": {
            "_model_module": "@jupyter-widgets/controls",
            "_model_module_version": "1.5.0",
            "_model_name": "ProgressStyleModel",
            "_view_count": null,
            "_view_module": "@jupyter-widgets/base",
            "_view_module_version": "1.2.0",
            "_view_name": "StyleView",
            "bar_color": null,
            "description_width": ""
          }
        },
        "3f317cdbbcd04cc0955893afe9d4f7a6": {
          "model_module": "@jupyter-widgets/base",
          "model_name": "LayoutModel",
          "model_module_version": "1.2.0",
          "state": {
            "_model_module": "@jupyter-widgets/base",
            "_model_module_version": "1.2.0",
            "_model_name": "LayoutModel",
            "_view_count": null,
            "_view_module": "@jupyter-widgets/base",
            "_view_module_version": "1.2.0",
            "_view_name": "LayoutView",
            "align_content": null,
            "align_items": null,
            "align_self": null,
            "border": null,
            "bottom": null,
            "display": null,
            "flex": null,
            "flex_flow": null,
            "grid_area": null,
            "grid_auto_columns": null,
            "grid_auto_flow": null,
            "grid_auto_rows": null,
            "grid_column": null,
            "grid_gap": null,
            "grid_row": null,
            "grid_template_areas": null,
            "grid_template_columns": null,
            "grid_template_rows": null,
            "height": null,
            "justify_content": null,
            "justify_items": null,
            "left": null,
            "margin": null,
            "max_height": null,
            "max_width": null,
            "min_height": null,
            "min_width": null,
            "object_fit": null,
            "object_position": null,
            "order": null,
            "overflow": null,
            "overflow_x": null,
            "overflow_y": null,
            "padding": null,
            "right": null,
            "top": null,
            "visibility": null,
            "width": null
          }
        },
        "60dd2933bdf1463d8b48de93f73b6184": {
          "model_module": "@jupyter-widgets/controls",
          "model_name": "DescriptionStyleModel",
          "model_module_version": "1.5.0",
          "state": {
            "_model_module": "@jupyter-widgets/controls",
            "_model_module_version": "1.5.0",
            "_model_name": "DescriptionStyleModel",
            "_view_count": null,
            "_view_module": "@jupyter-widgets/base",
            "_view_module_version": "1.2.0",
            "_view_name": "StyleView",
            "description_width": ""
          }
        },
        "16ba068cb9c146d0a703f2c024667ff2": {
          "model_module": "@jupyter-widgets/controls",
          "model_name": "HBoxModel",
          "model_module_version": "1.5.0",
          "state": {
            "_dom_classes": [],
            "_model_module": "@jupyter-widgets/controls",
            "_model_module_version": "1.5.0",
            "_model_name": "HBoxModel",
            "_view_count": null,
            "_view_module": "@jupyter-widgets/controls",
            "_view_module_version": "1.5.0",
            "_view_name": "HBoxView",
            "box_style": "",
            "children": [
              "IPY_MODEL_43bcf4a38e834548a8e9ba3d3adeac20",
              "IPY_MODEL_d786b822d9f448d3ab719e10eba9f89b",
              "IPY_MODEL_d9f644bdda8c4c01a1474b0d9dc606d2"
            ],
            "layout": "IPY_MODEL_7ab78b4a02a54437b8d983151e761ab5"
          }
        },
        "43bcf4a38e834548a8e9ba3d3adeac20": {
          "model_module": "@jupyter-widgets/controls",
          "model_name": "HTMLModel",
          "model_module_version": "1.5.0",
          "state": {
            "_dom_classes": [],
            "_model_module": "@jupyter-widgets/controls",
            "_model_module_version": "1.5.0",
            "_model_name": "HTMLModel",
            "_view_count": null,
            "_view_module": "@jupyter-widgets/controls",
            "_view_module_version": "1.5.0",
            "_view_name": "HTMLView",
            "description": "",
            "description_tooltip": null,
            "layout": "IPY_MODEL_31a943ccc2a54a46a59afb286719941a",
            "placeholder": "​",
            "style": "IPY_MODEL_6f6303d4b059445f993ca8156bf1cec6",
            "value": "vocab.txt: 100%"
          }
        },
        "d786b822d9f448d3ab719e10eba9f89b": {
          "model_module": "@jupyter-widgets/controls",
          "model_name": "FloatProgressModel",
          "model_module_version": "1.5.0",
          "state": {
            "_dom_classes": [],
            "_model_module": "@jupyter-widgets/controls",
            "_model_module_version": "1.5.0",
            "_model_name": "FloatProgressModel",
            "_view_count": null,
            "_view_module": "@jupyter-widgets/controls",
            "_view_module_version": "1.5.0",
            "_view_name": "ProgressView",
            "bar_style": "success",
            "description": "",
            "description_tooltip": null,
            "layout": "IPY_MODEL_206fe05eda834ac8bc3117b09fc4fda2",
            "max": 227845,
            "min": 0,
            "orientation": "horizontal",
            "style": "IPY_MODEL_3124284e3f8e4792a3d7bd76704a7781",
            "value": 227845
          }
        },
        "d9f644bdda8c4c01a1474b0d9dc606d2": {
          "model_module": "@jupyter-widgets/controls",
          "model_name": "HTMLModel",
          "model_module_version": "1.5.0",
          "state": {
            "_dom_classes": [],
            "_model_module": "@jupyter-widgets/controls",
            "_model_module_version": "1.5.0",
            "_model_name": "HTMLModel",
            "_view_count": null,
            "_view_module": "@jupyter-widgets/controls",
            "_view_module_version": "1.5.0",
            "_view_name": "HTMLView",
            "description": "",
            "description_tooltip": null,
            "layout": "IPY_MODEL_ea12c846723e43bf9fd00919013451a5",
            "placeholder": "​",
            "style": "IPY_MODEL_74ea28d9f1c442208653a838ad8802f8",
            "value": " 228k/228k [00:00&lt;00:00, 3.04MB/s]"
          }
        },
        "7ab78b4a02a54437b8d983151e761ab5": {
          "model_module": "@jupyter-widgets/base",
          "model_name": "LayoutModel",
          "model_module_version": "1.2.0",
          "state": {
            "_model_module": "@jupyter-widgets/base",
            "_model_module_version": "1.2.0",
            "_model_name": "LayoutModel",
            "_view_count": null,
            "_view_module": "@jupyter-widgets/base",
            "_view_module_version": "1.2.0",
            "_view_name": "LayoutView",
            "align_content": null,
            "align_items": null,
            "align_self": null,
            "border": null,
            "bottom": null,
            "display": null,
            "flex": null,
            "flex_flow": null,
            "grid_area": null,
            "grid_auto_columns": null,
            "grid_auto_flow": null,
            "grid_auto_rows": null,
            "grid_column": null,
            "grid_gap": null,
            "grid_row": null,
            "grid_template_areas": null,
            "grid_template_columns": null,
            "grid_template_rows": null,
            "height": null,
            "justify_content": null,
            "justify_items": null,
            "left": null,
            "margin": null,
            "max_height": null,
            "max_width": null,
            "min_height": null,
            "min_width": null,
            "object_fit": null,
            "object_position": null,
            "order": null,
            "overflow": null,
            "overflow_x": null,
            "overflow_y": null,
            "padding": null,
            "right": null,
            "top": null,
            "visibility": null,
            "width": null
          }
        },
        "31a943ccc2a54a46a59afb286719941a": {
          "model_module": "@jupyter-widgets/base",
          "model_name": "LayoutModel",
          "model_module_version": "1.2.0",
          "state": {
            "_model_module": "@jupyter-widgets/base",
            "_model_module_version": "1.2.0",
            "_model_name": "LayoutModel",
            "_view_count": null,
            "_view_module": "@jupyter-widgets/base",
            "_view_module_version": "1.2.0",
            "_view_name": "LayoutView",
            "align_content": null,
            "align_items": null,
            "align_self": null,
            "border": null,
            "bottom": null,
            "display": null,
            "flex": null,
            "flex_flow": null,
            "grid_area": null,
            "grid_auto_columns": null,
            "grid_auto_flow": null,
            "grid_auto_rows": null,
            "grid_column": null,
            "grid_gap": null,
            "grid_row": null,
            "grid_template_areas": null,
            "grid_template_columns": null,
            "grid_template_rows": null,
            "height": null,
            "justify_content": null,
            "justify_items": null,
            "left": null,
            "margin": null,
            "max_height": null,
            "max_width": null,
            "min_height": null,
            "min_width": null,
            "object_fit": null,
            "object_position": null,
            "order": null,
            "overflow": null,
            "overflow_x": null,
            "overflow_y": null,
            "padding": null,
            "right": null,
            "top": null,
            "visibility": null,
            "width": null
          }
        },
        "6f6303d4b059445f993ca8156bf1cec6": {
          "model_module": "@jupyter-widgets/controls",
          "model_name": "DescriptionStyleModel",
          "model_module_version": "1.5.0",
          "state": {
            "_model_module": "@jupyter-widgets/controls",
            "_model_module_version": "1.5.0",
            "_model_name": "DescriptionStyleModel",
            "_view_count": null,
            "_view_module": "@jupyter-widgets/base",
            "_view_module_version": "1.2.0",
            "_view_name": "StyleView",
            "description_width": ""
          }
        },
        "206fe05eda834ac8bc3117b09fc4fda2": {
          "model_module": "@jupyter-widgets/base",
          "model_name": "LayoutModel",
          "model_module_version": "1.2.0",
          "state": {
            "_model_module": "@jupyter-widgets/base",
            "_model_module_version": "1.2.0",
            "_model_name": "LayoutModel",
            "_view_count": null,
            "_view_module": "@jupyter-widgets/base",
            "_view_module_version": "1.2.0",
            "_view_name": "LayoutView",
            "align_content": null,
            "align_items": null,
            "align_self": null,
            "border": null,
            "bottom": null,
            "display": null,
            "flex": null,
            "flex_flow": null,
            "grid_area": null,
            "grid_auto_columns": null,
            "grid_auto_flow": null,
            "grid_auto_rows": null,
            "grid_column": null,
            "grid_gap": null,
            "grid_row": null,
            "grid_template_areas": null,
            "grid_template_columns": null,
            "grid_template_rows": null,
            "height": null,
            "justify_content": null,
            "justify_items": null,
            "left": null,
            "margin": null,
            "max_height": null,
            "max_width": null,
            "min_height": null,
            "min_width": null,
            "object_fit": null,
            "object_position": null,
            "order": null,
            "overflow": null,
            "overflow_x": null,
            "overflow_y": null,
            "padding": null,
            "right": null,
            "top": null,
            "visibility": null,
            "width": null
          }
        },
        "3124284e3f8e4792a3d7bd76704a7781": {
          "model_module": "@jupyter-widgets/controls",
          "model_name": "ProgressStyleModel",
          "model_module_version": "1.5.0",
          "state": {
            "_model_module": "@jupyter-widgets/controls",
            "_model_module_version": "1.5.0",
            "_model_name": "ProgressStyleModel",
            "_view_count": null,
            "_view_module": "@jupyter-widgets/base",
            "_view_module_version": "1.2.0",
            "_view_name": "StyleView",
            "bar_color": null,
            "description_width": ""
          }
        },
        "ea12c846723e43bf9fd00919013451a5": {
          "model_module": "@jupyter-widgets/base",
          "model_name": "LayoutModel",
          "model_module_version": "1.2.0",
          "state": {
            "_model_module": "@jupyter-widgets/base",
            "_model_module_version": "1.2.0",
            "_model_name": "LayoutModel",
            "_view_count": null,
            "_view_module": "@jupyter-widgets/base",
            "_view_module_version": "1.2.0",
            "_view_name": "LayoutView",
            "align_content": null,
            "align_items": null,
            "align_self": null,
            "border": null,
            "bottom": null,
            "display": null,
            "flex": null,
            "flex_flow": null,
            "grid_area": null,
            "grid_auto_columns": null,
            "grid_auto_flow": null,
            "grid_auto_rows": null,
            "grid_column": null,
            "grid_gap": null,
            "grid_row": null,
            "grid_template_areas": null,
            "grid_template_columns": null,
            "grid_template_rows": null,
            "height": null,
            "justify_content": null,
            "justify_items": null,
            "left": null,
            "margin": null,
            "max_height": null,
            "max_width": null,
            "min_height": null,
            "min_width": null,
            "object_fit": null,
            "object_position": null,
            "order": null,
            "overflow": null,
            "overflow_x": null,
            "overflow_y": null,
            "padding": null,
            "right": null,
            "top": null,
            "visibility": null,
            "width": null
          }
        },
        "74ea28d9f1c442208653a838ad8802f8": {
          "model_module": "@jupyter-widgets/controls",
          "model_name": "DescriptionStyleModel",
          "model_module_version": "1.5.0",
          "state": {
            "_model_module": "@jupyter-widgets/controls",
            "_model_module_version": "1.5.0",
            "_model_name": "DescriptionStyleModel",
            "_view_count": null,
            "_view_module": "@jupyter-widgets/base",
            "_view_module_version": "1.2.0",
            "_view_name": "StyleView",
            "description_width": ""
          }
        },
        "39b2060c23a44c1dafa95495c5f73c7f": {
          "model_module": "@jupyter-widgets/controls",
          "model_name": "HBoxModel",
          "model_module_version": "1.5.0",
          "state": {
            "_dom_classes": [],
            "_model_module": "@jupyter-widgets/controls",
            "_model_module_version": "1.5.0",
            "_model_name": "HBoxModel",
            "_view_count": null,
            "_view_module": "@jupyter-widgets/controls",
            "_view_module_version": "1.5.0",
            "_view_name": "HBoxView",
            "box_style": "",
            "children": [
              "IPY_MODEL_c24d24beee7e45cda037f0f057564e0e",
              "IPY_MODEL_d36448fb3c714db1b0d3eec2664da067",
              "IPY_MODEL_f4aef6d965bd47188567f28c8714daf7"
            ],
            "layout": "IPY_MODEL_10d7ca93ba0f45f3b017aade9bcd349c"
          }
        },
        "c24d24beee7e45cda037f0f057564e0e": {
          "model_module": "@jupyter-widgets/controls",
          "model_name": "HTMLModel",
          "model_module_version": "1.5.0",
          "state": {
            "_dom_classes": [],
            "_model_module": "@jupyter-widgets/controls",
            "_model_module_version": "1.5.0",
            "_model_name": "HTMLModel",
            "_view_count": null,
            "_view_module": "@jupyter-widgets/controls",
            "_view_module_version": "1.5.0",
            "_view_name": "HTMLView",
            "description": "",
            "description_tooltip": null,
            "layout": "IPY_MODEL_13d3662b651b437a8bb754717e06091d",
            "placeholder": "​",
            "style": "IPY_MODEL_08f3f161302041ca88bcf245b070892b",
            "value": "config.json: 100%"
          }
        },
        "d36448fb3c714db1b0d3eec2664da067": {
          "model_module": "@jupyter-widgets/controls",
          "model_name": "FloatProgressModel",
          "model_module_version": "1.5.0",
          "state": {
            "_dom_classes": [],
            "_model_module": "@jupyter-widgets/controls",
            "_model_module_version": "1.5.0",
            "_model_name": "FloatProgressModel",
            "_view_count": null,
            "_view_module": "@jupyter-widgets/controls",
            "_view_module_version": "1.5.0",
            "_view_name": "ProgressView",
            "bar_style": "success",
            "description": "",
            "description_tooltip": null,
            "layout": "IPY_MODEL_7c9bb405e6d542498552782e737db4a9",
            "max": 385,
            "min": 0,
            "orientation": "horizontal",
            "style": "IPY_MODEL_dfc269dab64b450ab3e5c92065d1cc46",
            "value": 385
          }
        },
        "f4aef6d965bd47188567f28c8714daf7": {
          "model_module": "@jupyter-widgets/controls",
          "model_name": "HTMLModel",
          "model_module_version": "1.5.0",
          "state": {
            "_dom_classes": [],
            "_model_module": "@jupyter-widgets/controls",
            "_model_module_version": "1.5.0",
            "_model_name": "HTMLModel",
            "_view_count": null,
            "_view_module": "@jupyter-widgets/controls",
            "_view_module_version": "1.5.0",
            "_view_name": "HTMLView",
            "description": "",
            "description_tooltip": null,
            "layout": "IPY_MODEL_f6e75755ed324bbdad18bfe42d624fa5",
            "placeholder": "​",
            "style": "IPY_MODEL_e00e99d71b0d4355b8ca1e235c3fcdae",
            "value": " 385/385 [00:00&lt;00:00, 7.89kB/s]"
          }
        },
        "10d7ca93ba0f45f3b017aade9bcd349c": {
          "model_module": "@jupyter-widgets/base",
          "model_name": "LayoutModel",
          "model_module_version": "1.2.0",
          "state": {
            "_model_module": "@jupyter-widgets/base",
            "_model_module_version": "1.2.0",
            "_model_name": "LayoutModel",
            "_view_count": null,
            "_view_module": "@jupyter-widgets/base",
            "_view_module_version": "1.2.0",
            "_view_name": "LayoutView",
            "align_content": null,
            "align_items": null,
            "align_self": null,
            "border": null,
            "bottom": null,
            "display": null,
            "flex": null,
            "flex_flow": null,
            "grid_area": null,
            "grid_auto_columns": null,
            "grid_auto_flow": null,
            "grid_auto_rows": null,
            "grid_column": null,
            "grid_gap": null,
            "grid_row": null,
            "grid_template_areas": null,
            "grid_template_columns": null,
            "grid_template_rows": null,
            "height": null,
            "justify_content": null,
            "justify_items": null,
            "left": null,
            "margin": null,
            "max_height": null,
            "max_width": null,
            "min_height": null,
            "min_width": null,
            "object_fit": null,
            "object_position": null,
            "order": null,
            "overflow": null,
            "overflow_x": null,
            "overflow_y": null,
            "padding": null,
            "right": null,
            "top": null,
            "visibility": null,
            "width": null
          }
        },
        "13d3662b651b437a8bb754717e06091d": {
          "model_module": "@jupyter-widgets/base",
          "model_name": "LayoutModel",
          "model_module_version": "1.2.0",
          "state": {
            "_model_module": "@jupyter-widgets/base",
            "_model_module_version": "1.2.0",
            "_model_name": "LayoutModel",
            "_view_count": null,
            "_view_module": "@jupyter-widgets/base",
            "_view_module_version": "1.2.0",
            "_view_name": "LayoutView",
            "align_content": null,
            "align_items": null,
            "align_self": null,
            "border": null,
            "bottom": null,
            "display": null,
            "flex": null,
            "flex_flow": null,
            "grid_area": null,
            "grid_auto_columns": null,
            "grid_auto_flow": null,
            "grid_auto_rows": null,
            "grid_column": null,
            "grid_gap": null,
            "grid_row": null,
            "grid_template_areas": null,
            "grid_template_columns": null,
            "grid_template_rows": null,
            "height": null,
            "justify_content": null,
            "justify_items": null,
            "left": null,
            "margin": null,
            "max_height": null,
            "max_width": null,
            "min_height": null,
            "min_width": null,
            "object_fit": null,
            "object_position": null,
            "order": null,
            "overflow": null,
            "overflow_x": null,
            "overflow_y": null,
            "padding": null,
            "right": null,
            "top": null,
            "visibility": null,
            "width": null
          }
        },
        "08f3f161302041ca88bcf245b070892b": {
          "model_module": "@jupyter-widgets/controls",
          "model_name": "DescriptionStyleModel",
          "model_module_version": "1.5.0",
          "state": {
            "_model_module": "@jupyter-widgets/controls",
            "_model_module_version": "1.5.0",
            "_model_name": "DescriptionStyleModel",
            "_view_count": null,
            "_view_module": "@jupyter-widgets/base",
            "_view_module_version": "1.2.0",
            "_view_name": "StyleView",
            "description_width": ""
          }
        },
        "7c9bb405e6d542498552782e737db4a9": {
          "model_module": "@jupyter-widgets/base",
          "model_name": "LayoutModel",
          "model_module_version": "1.2.0",
          "state": {
            "_model_module": "@jupyter-widgets/base",
            "_model_module_version": "1.2.0",
            "_model_name": "LayoutModel",
            "_view_count": null,
            "_view_module": "@jupyter-widgets/base",
            "_view_module_version": "1.2.0",
            "_view_name": "LayoutView",
            "align_content": null,
            "align_items": null,
            "align_self": null,
            "border": null,
            "bottom": null,
            "display": null,
            "flex": null,
            "flex_flow": null,
            "grid_area": null,
            "grid_auto_columns": null,
            "grid_auto_flow": null,
            "grid_auto_rows": null,
            "grid_column": null,
            "grid_gap": null,
            "grid_row": null,
            "grid_template_areas": null,
            "grid_template_columns": null,
            "grid_template_rows": null,
            "height": null,
            "justify_content": null,
            "justify_items": null,
            "left": null,
            "margin": null,
            "max_height": null,
            "max_width": null,
            "min_height": null,
            "min_width": null,
            "object_fit": null,
            "object_position": null,
            "order": null,
            "overflow": null,
            "overflow_x": null,
            "overflow_y": null,
            "padding": null,
            "right": null,
            "top": null,
            "visibility": null,
            "width": null
          }
        },
        "dfc269dab64b450ab3e5c92065d1cc46": {
          "model_module": "@jupyter-widgets/controls",
          "model_name": "ProgressStyleModel",
          "model_module_version": "1.5.0",
          "state": {
            "_model_module": "@jupyter-widgets/controls",
            "_model_module_version": "1.5.0",
            "_model_name": "ProgressStyleModel",
            "_view_count": null,
            "_view_module": "@jupyter-widgets/base",
            "_view_module_version": "1.2.0",
            "_view_name": "StyleView",
            "bar_color": null,
            "description_width": ""
          }
        },
        "f6e75755ed324bbdad18bfe42d624fa5": {
          "model_module": "@jupyter-widgets/base",
          "model_name": "LayoutModel",
          "model_module_version": "1.2.0",
          "state": {
            "_model_module": "@jupyter-widgets/base",
            "_model_module_version": "1.2.0",
            "_model_name": "LayoutModel",
            "_view_count": null,
            "_view_module": "@jupyter-widgets/base",
            "_view_module_version": "1.2.0",
            "_view_name": "LayoutView",
            "align_content": null,
            "align_items": null,
            "align_self": null,
            "border": null,
            "bottom": null,
            "display": null,
            "flex": null,
            "flex_flow": null,
            "grid_area": null,
            "grid_auto_columns": null,
            "grid_auto_flow": null,
            "grid_auto_rows": null,
            "grid_column": null,
            "grid_gap": null,
            "grid_row": null,
            "grid_template_areas": null,
            "grid_template_columns": null,
            "grid_template_rows": null,
            "height": null,
            "justify_content": null,
            "justify_items": null,
            "left": null,
            "margin": null,
            "max_height": null,
            "max_width": null,
            "min_height": null,
            "min_width": null,
            "object_fit": null,
            "object_position": null,
            "order": null,
            "overflow": null,
            "overflow_x": null,
            "overflow_y": null,
            "padding": null,
            "right": null,
            "top": null,
            "visibility": null,
            "width": null
          }
        },
        "e00e99d71b0d4355b8ca1e235c3fcdae": {
          "model_module": "@jupyter-widgets/controls",
          "model_name": "DescriptionStyleModel",
          "model_module_version": "1.5.0",
          "state": {
            "_model_module": "@jupyter-widgets/controls",
            "_model_module_version": "1.5.0",
            "_model_name": "DescriptionStyleModel",
            "_view_count": null,
            "_view_module": "@jupyter-widgets/base",
            "_view_module_version": "1.2.0",
            "_view_name": "StyleView",
            "description_width": ""
          }
        },
        "9b090c9203764c5b869c0d4ebc6b25af": {
          "model_module": "@jupyter-widgets/controls",
          "model_name": "HBoxModel",
          "model_module_version": "1.5.0",
          "state": {
            "_dom_classes": [],
            "_model_module": "@jupyter-widgets/controls",
            "_model_module_version": "1.5.0",
            "_model_name": "HBoxModel",
            "_view_count": null,
            "_view_module": "@jupyter-widgets/controls",
            "_view_module_version": "1.5.0",
            "_view_name": "HBoxView",
            "box_style": "",
            "children": [
              "IPY_MODEL_db9ba6e390f645f1a2ba8b0173668642",
              "IPY_MODEL_a0cf94a9d2f04aaf9e47dcc56f552675",
              "IPY_MODEL_27ceb353c984405687314f3c8dce4dc6"
            ],
            "layout": "IPY_MODEL_2532fa910c0b46798e61a1742912af9b"
          }
        },
        "db9ba6e390f645f1a2ba8b0173668642": {
          "model_module": "@jupyter-widgets/controls",
          "model_name": "HTMLModel",
          "model_module_version": "1.5.0",
          "state": {
            "_dom_classes": [],
            "_model_module": "@jupyter-widgets/controls",
            "_model_module_version": "1.5.0",
            "_model_name": "HTMLModel",
            "_view_count": null,
            "_view_module": "@jupyter-widgets/controls",
            "_view_module_version": "1.5.0",
            "_view_name": "HTMLView",
            "description": "",
            "description_tooltip": null,
            "layout": "IPY_MODEL_3e79279a47f747699dbfa272c347a4a8",
            "placeholder": "​",
            "style": "IPY_MODEL_6d51ac45cf454487a3d6000dca5470e7",
            "value": "pytorch_model.bin: 100%"
          }
        },
        "a0cf94a9d2f04aaf9e47dcc56f552675": {
          "model_module": "@jupyter-widgets/controls",
          "model_name": "FloatProgressModel",
          "model_module_version": "1.5.0",
          "state": {
            "_dom_classes": [],
            "_model_module": "@jupyter-widgets/controls",
            "_model_module_version": "1.5.0",
            "_model_name": "FloatProgressModel",
            "_view_count": null,
            "_view_module": "@jupyter-widgets/controls",
            "_view_module_version": "1.5.0",
            "_view_name": "ProgressView",
            "bar_style": "success",
            "description": "",
            "description_tooltip": null,
            "layout": "IPY_MODEL_bb0bdda196004e61936beafa0980601e",
            "max": 442301670,
            "min": 0,
            "orientation": "horizontal",
            "style": "IPY_MODEL_aa4824fec5a74a19b70a4bed97598c78",
            "value": 442301670
          }
        },
        "27ceb353c984405687314f3c8dce4dc6": {
          "model_module": "@jupyter-widgets/controls",
          "model_name": "HTMLModel",
          "model_module_version": "1.5.0",
          "state": {
            "_dom_classes": [],
            "_model_module": "@jupyter-widgets/controls",
            "_model_module_version": "1.5.0",
            "_model_name": "HTMLModel",
            "_view_count": null,
            "_view_module": "@jupyter-widgets/controls",
            "_view_module_version": "1.5.0",
            "_view_name": "HTMLView",
            "description": "",
            "description_tooltip": null,
            "layout": "IPY_MODEL_246f6f83dab94923923b8e7c3009389b",
            "placeholder": "​",
            "style": "IPY_MODEL_877761c4d304474a873a8a1e1b60cff8",
            "value": " 442M/442M [00:03&lt;00:00, 107MB/s]"
          }
        },
        "2532fa910c0b46798e61a1742912af9b": {
          "model_module": "@jupyter-widgets/base",
          "model_name": "LayoutModel",
          "model_module_version": "1.2.0",
          "state": {
            "_model_module": "@jupyter-widgets/base",
            "_model_module_version": "1.2.0",
            "_model_name": "LayoutModel",
            "_view_count": null,
            "_view_module": "@jupyter-widgets/base",
            "_view_module_version": "1.2.0",
            "_view_name": "LayoutView",
            "align_content": null,
            "align_items": null,
            "align_self": null,
            "border": null,
            "bottom": null,
            "display": null,
            "flex": null,
            "flex_flow": null,
            "grid_area": null,
            "grid_auto_columns": null,
            "grid_auto_flow": null,
            "grid_auto_rows": null,
            "grid_column": null,
            "grid_gap": null,
            "grid_row": null,
            "grid_template_areas": null,
            "grid_template_columns": null,
            "grid_template_rows": null,
            "height": null,
            "justify_content": null,
            "justify_items": null,
            "left": null,
            "margin": null,
            "max_height": null,
            "max_width": null,
            "min_height": null,
            "min_width": null,
            "object_fit": null,
            "object_position": null,
            "order": null,
            "overflow": null,
            "overflow_x": null,
            "overflow_y": null,
            "padding": null,
            "right": null,
            "top": null,
            "visibility": null,
            "width": null
          }
        },
        "3e79279a47f747699dbfa272c347a4a8": {
          "model_module": "@jupyter-widgets/base",
          "model_name": "LayoutModel",
          "model_module_version": "1.2.0",
          "state": {
            "_model_module": "@jupyter-widgets/base",
            "_model_module_version": "1.2.0",
            "_model_name": "LayoutModel",
            "_view_count": null,
            "_view_module": "@jupyter-widgets/base",
            "_view_module_version": "1.2.0",
            "_view_name": "LayoutView",
            "align_content": null,
            "align_items": null,
            "align_self": null,
            "border": null,
            "bottom": null,
            "display": null,
            "flex": null,
            "flex_flow": null,
            "grid_area": null,
            "grid_auto_columns": null,
            "grid_auto_flow": null,
            "grid_auto_rows": null,
            "grid_column": null,
            "grid_gap": null,
            "grid_row": null,
            "grid_template_areas": null,
            "grid_template_columns": null,
            "grid_template_rows": null,
            "height": null,
            "justify_content": null,
            "justify_items": null,
            "left": null,
            "margin": null,
            "max_height": null,
            "max_width": null,
            "min_height": null,
            "min_width": null,
            "object_fit": null,
            "object_position": null,
            "order": null,
            "overflow": null,
            "overflow_x": null,
            "overflow_y": null,
            "padding": null,
            "right": null,
            "top": null,
            "visibility": null,
            "width": null
          }
        },
        "6d51ac45cf454487a3d6000dca5470e7": {
          "model_module": "@jupyter-widgets/controls",
          "model_name": "DescriptionStyleModel",
          "model_module_version": "1.5.0",
          "state": {
            "_model_module": "@jupyter-widgets/controls",
            "_model_module_version": "1.5.0",
            "_model_name": "DescriptionStyleModel",
            "_view_count": null,
            "_view_module": "@jupyter-widgets/base",
            "_view_module_version": "1.2.0",
            "_view_name": "StyleView",
            "description_width": ""
          }
        },
        "bb0bdda196004e61936beafa0980601e": {
          "model_module": "@jupyter-widgets/base",
          "model_name": "LayoutModel",
          "model_module_version": "1.2.0",
          "state": {
            "_model_module": "@jupyter-widgets/base",
            "_model_module_version": "1.2.0",
            "_model_name": "LayoutModel",
            "_view_count": null,
            "_view_module": "@jupyter-widgets/base",
            "_view_module_version": "1.2.0",
            "_view_name": "LayoutView",
            "align_content": null,
            "align_items": null,
            "align_self": null,
            "border": null,
            "bottom": null,
            "display": null,
            "flex": null,
            "flex_flow": null,
            "grid_area": null,
            "grid_auto_columns": null,
            "grid_auto_flow": null,
            "grid_auto_rows": null,
            "grid_column": null,
            "grid_gap": null,
            "grid_row": null,
            "grid_template_areas": null,
            "grid_template_columns": null,
            "grid_template_rows": null,
            "height": null,
            "justify_content": null,
            "justify_items": null,
            "left": null,
            "margin": null,
            "max_height": null,
            "max_width": null,
            "min_height": null,
            "min_width": null,
            "object_fit": null,
            "object_position": null,
            "order": null,
            "overflow": null,
            "overflow_x": null,
            "overflow_y": null,
            "padding": null,
            "right": null,
            "top": null,
            "visibility": null,
            "width": null
          }
        },
        "aa4824fec5a74a19b70a4bed97598c78": {
          "model_module": "@jupyter-widgets/controls",
          "model_name": "ProgressStyleModel",
          "model_module_version": "1.5.0",
          "state": {
            "_model_module": "@jupyter-widgets/controls",
            "_model_module_version": "1.5.0",
            "_model_name": "ProgressStyleModel",
            "_view_count": null,
            "_view_module": "@jupyter-widgets/base",
            "_view_module_version": "1.2.0",
            "_view_name": "StyleView",
            "bar_color": null,
            "description_width": ""
          }
        },
        "246f6f83dab94923923b8e7c3009389b": {
          "model_module": "@jupyter-widgets/base",
          "model_name": "LayoutModel",
          "model_module_version": "1.2.0",
          "state": {
            "_model_module": "@jupyter-widgets/base",
            "_model_module_version": "1.2.0",
            "_model_name": "LayoutModel",
            "_view_count": null,
            "_view_module": "@jupyter-widgets/base",
            "_view_module_version": "1.2.0",
            "_view_name": "LayoutView",
            "align_content": null,
            "align_items": null,
            "align_self": null,
            "border": null,
            "bottom": null,
            "display": null,
            "flex": null,
            "flex_flow": null,
            "grid_area": null,
            "grid_auto_columns": null,
            "grid_auto_flow": null,
            "grid_auto_rows": null,
            "grid_column": null,
            "grid_gap": null,
            "grid_row": null,
            "grid_template_areas": null,
            "grid_template_columns": null,
            "grid_template_rows": null,
            "height": null,
            "justify_content": null,
            "justify_items": null,
            "left": null,
            "margin": null,
            "max_height": null,
            "max_width": null,
            "min_height": null,
            "min_width": null,
            "object_fit": null,
            "object_position": null,
            "order": null,
            "overflow": null,
            "overflow_x": null,
            "overflow_y": null,
            "padding": null,
            "right": null,
            "top": null,
            "visibility": null,
            "width": null
          }
        },
        "877761c4d304474a873a8a1e1b60cff8": {
          "model_module": "@jupyter-widgets/controls",
          "model_name": "DescriptionStyleModel",
          "model_module_version": "1.5.0",
          "state": {
            "_model_module": "@jupyter-widgets/controls",
            "_model_module_version": "1.5.0",
            "_model_name": "DescriptionStyleModel",
            "_view_count": null,
            "_view_module": "@jupyter-widgets/base",
            "_view_module_version": "1.2.0",
            "_view_name": "StyleView",
            "description_width": ""
          }
        }
      }
    }
  },
  "nbformat": 4,
  "nbformat_minor": 0
}